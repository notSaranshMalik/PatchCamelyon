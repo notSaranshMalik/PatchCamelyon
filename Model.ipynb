{
 "cells": [
  {
   "attachments": {},
   "cell_type": "markdown",
   "id": "1d80c9c8",
   "metadata": {},
   "source": [
    "# Introduction"
   ]
  },
  {
   "attachments": {},
   "cell_type": "markdown",
   "id": "19efb029",
   "metadata": {},
   "source": [
    "The PatchCamelyon dataset is a set of 327680 colour images of histopathologic scans. These patches are labelled either cancerous, or non-cancerous, based on the presence of metastatic tissue. This project (started in COGS118A at UC San Diego) aims to create deep learning convolutional neural nets to classify these images."
   ]
  },
  {
   "attachments": {},
   "cell_type": "markdown",
   "id": "99659932",
   "metadata": {},
   "source": [
    "# Initial Tests"
   ]
  },
  {
   "attachments": {},
   "cell_type": "markdown",
   "id": "2566c031",
   "metadata": {},
   "source": [
    "Starting with transfer learning, we imported many ImageNet pre-trained models from the PyTorch library. Replacing the last layer with a fully connected layer, we froze all other layers and trained just that singular layer. We tried different image sizes, batch sizes, optimisers, etc. These models yielded a wide variety of results, but none cracked the 80% test accuracy boundary, and seemed to stagnate after 5 or so epochs.\n",
    "\n",
    "<img src=\"grid_search_1.png\"  width=\"500\">\n",
    "\n",
    "Models such as ResNet50 are optimised for images of size 224x224 or larger, so images from this dataset, of size 96x96 (out of which only a center crop of 32x32 was supposed to be checked) did not perform well on the model. [Geert Litjens](https://geertlitjens.nl/post/getting-started-with-camelyon/), one of the publishers of this dataset, recommends a 6 layer convolutional, 3 layer dense, 2 layer dropout network, as a relatively shallow network equipped with dealing with small images. Following this strategy without using any transfer learning, we started getting relatively high training accuracies, breaking the 80% boundary. The code for this model is provided below this writeup."
   ]
  },
  {
   "attachments": {},
   "cell_type": "markdown",
   "id": "c0951501",
   "metadata": {},
   "source": [
    "After trying over 50 models and parameter combinations over 3 weeks, we started fine tuning our model."
   ]
  },
  {
   "attachments": {},
   "cell_type": "markdown",
   "id": "cfbfb845",
   "metadata": {},
   "source": [
    "# Fine Tuning"
   ]
  },
  {
   "attachments": {},
   "cell_type": "markdown",
   "id": "692920cc",
   "metadata": {},
   "source": [
    "Using this custom-built model, we experimented on a wide number of factors. First of all, we discovered that small batch sizes were preferable to large batch sizes for this model. Although large batches converged to a better minima on the training data, it led to significant overfitting. Following suit with [research](https://arxiv.org/abs/1609.04836) recommending the use of small batch sizes, we decided to use batches of 32-64 images instead of 256-512."
   ]
  },
  {
   "attachments": {},
   "cell_type": "markdown",
   "id": "114bba1f",
   "metadata": {},
   "source": [
    "### Model 1"
   ]
  },
  {
   "attachments": {},
   "cell_type": "markdown",
   "id": "f1d12b22",
   "metadata": {},
   "source": [
    "**Stochastic Gradient Descent** _(10 epochs, 5e-3 rate, 0.9 momentum, 0.4 dropout (2 dropout layers), 64 image batch size)_: 83.32% test accuracy\n",
    "\n",
    "<img src=\"model1.png\" width=\"300\">\n",
    "\n",
    "As seen, however, the validation accuracy does not decrease significantly after 3 epochs, indicating a level of overfitting on the training data. Although 83% is a good accuracy, it is likely this won't generalise well with similar pictures from different sets. This model is likely overfit on this dataset's colours, detail, etc. We decided to try more techniques to deal with this."
   ]
  },
  {
   "attachments": {},
   "cell_type": "markdown",
   "id": "a1fd03a8",
   "metadata": {},
   "source": [
    "### Model 2"
   ]
  },
  {
   "attachments": {},
   "cell_type": "markdown",
   "id": "48b1cfad",
   "metadata": {},
   "source": [
    "**Stochastic Gradient Descent** _(10 epochs, 1e-3 rate, 0.9 momentum, 0.3 dropout (3 dropout layers), 64 image batch size, random flips, grayscale)_\n",
    "\n",
    "<img src=\"model2.png\" width=\"300\">\n",
    "\n",
    "**Adaptive Momentum Estimation (Adam)** _(20 epochs, 1e-4 rate, 0.9 momentum, 0.3 dropout (3 dropout layers), 64 image batch size, random flips, grayscale, scheduler (1 patience, 0.1 factor) on validation accuracy)_: 81.89% test accuracy\n",
    "\n",
    "<img src=\"model3.png\" width=\"300\">\n",
    "\n",
    "Here, to deal with the overfitting, I introduced a third dropout layer (between the convolutional layer and the first dense layer), and introduced data augmentation. The first augmentation is random vertical and horizontal flipping of training data, effectively quadrupling the \"amount\" of training data to reduce overfitting. Secondly, I grayscaled the images to reduce overfitting on colour saturation, since some [experts](https://cs230.stanford.edu/projects_winter_2019/reports/15813329.pdf) claim colour holds no meaning in cancer detection.\n",
    "\n",
    "I carried out an 10 epochs of SGD followed by 20 epochs of Adam gradient descent, since the Adam optimiser is great at finding a minima regardless of training rate. I also introduced a scheduler at this point to fine tune the model. From this, it is clear to see how the Adam optimiser tends to overfit on training data, which is a known criticism of this optimiser. As such, we realise SGD is the best fit for our model. This test also showed that grayscale doesn't significantly reduce test accuracy, while reducing overfitting (as seen on the first 10 epochs) using SGD."
   ]
  },
  {
   "attachments": {},
   "cell_type": "markdown",
   "id": "80400f0c",
   "metadata": {},
   "source": [
    "### Model 3"
   ]
  },
  {
   "attachments": {},
   "cell_type": "markdown",
   "id": "8ba855f1",
   "metadata": {},
   "source": [
    "**Stochastic Gradient Descent** _(30 epochs, 1e-3 rate, 0.92 momentum, 0.35 dropout (3 dropout layers), 32 image batch size, random flips, grayscale, scheduler (2 patience, 0.4 factor) on validation accuracy)_: 84.87% test accuracy\n",
    "\n",
    "<img src=\"model4.png\" width=\"300\">\n",
    "\n",
    "Giving us a fantastic, almost 85% accuracy, this model is incredibly accurate at finding the cancerous examples of patches, while not significantly overfitting on the training data. Trained in about 1 hour on a 1080Ti, this model is both quick to train and accurate to test on unseen data."
   ]
  },
  {
   "attachments": {},
   "cell_type": "markdown",
   "id": "7ab72c16",
   "metadata": {},
   "source": [
    "# Code"
   ]
  },
  {
   "attachments": {},
   "cell_type": "markdown",
   "id": "d0054046",
   "metadata": {},
   "source": [
    "### Setup"
   ]
  },
  {
   "cell_type": "code",
   "execution_count": 1,
   "id": "3ccea3ee",
   "metadata": {},
   "outputs": [],
   "source": [
    "import torch\n",
    "from torch.utils.data import DataLoader, Dataset\n",
    "import torch.nn as nn\n",
    "from torchvision.transforms import RandomHorizontalFlip, RandomVerticalFlip, Grayscale\n",
    "import numpy as np\n",
    "import matplotlib.pyplot as plt\n",
    "from tqdm import tqdm\n",
    "import h5py"
   ]
  },
  {
   "cell_type": "code",
   "execution_count": 2,
   "id": "5bd753fd",
   "metadata": {},
   "outputs": [],
   "source": [
    "dev = torch.device(\"cuda\") if torch.cuda.is_available() else torch.device(\"cpu\")"
   ]
  },
  {
   "attachments": {},
   "cell_type": "markdown",
   "id": "3dbfea4c",
   "metadata": {},
   "source": [
    "### Data Importing"
   ]
  },
  {
   "cell_type": "code",
   "execution_count": 3,
   "id": "17845fd5",
   "metadata": {},
   "outputs": [],
   "source": [
    "class Data(Dataset):\n",
    "    \n",
    "    def __init__(self, train=0, gray=True):\n",
    "        \n",
    "        # Load data\n",
    "        self.train = (train == 0)\n",
    "        if train == 0:\n",
    "            self.x = self.load_h5_as_numpy('camelyonpatch_level_2_split_train_x.h5', 'x')\n",
    "            self.y = self.load_h5_as_numpy('camelyonpatch_level_2_split_train_y.h5', 'y')[:, 0, 0, 0]\n",
    "        elif train == 1:\n",
    "            self.x = self.load_h5_as_numpy('camelyonpatch_level_2_split_test_x.h5', 'x')\n",
    "            self.y = self.load_h5_as_numpy('camelyonpatch_level_2_split_test_y.h5', 'y')[:, 0, 0, 0]\n",
    "        elif train == 2:\n",
    "            self.x = self.load_h5_as_numpy('camelyonpatch_level_2_split_valid_x.h5', 'x')\n",
    "            self.y = self.load_h5_as_numpy('camelyonpatch_level_2_split_valid_y.h5', 'y')[:, 0, 0, 0]\n",
    "        self.gray = gray\n",
    "            \n",
    "        # Prepare transforms\n",
    "        self.t1 = RandomHorizontalFlip(p=0.5)\n",
    "        self.t2 = RandomVerticalFlip(p=0.5)\n",
    "        self.g = Grayscale()\n",
    "            \n",
    "    def __len__(self):\n",
    "        return self.x.shape[0]\n",
    "\n",
    "    def __getitem__(self, idx):\n",
    "        \n",
    "        # Get images\n",
    "        if torch.is_tensor(idx):\n",
    "            idx = idx.tolist()\n",
    "        if type(idx) is list:\n",
    "            img = torch.from_numpy(self.x[idx].astype(np.float32)).permute(0, 3, 1, 2)/128 - 1\n",
    "            cls = torch.from_numpy(self.y[idx])\n",
    "        else:\n",
    "            img = torch.from_numpy(self.x[idx].astype(np.float32)).permute(2, 0, 1)/128 - 1\n",
    "            cls = self.y[idx]\n",
    "            \n",
    "        # Transforms\n",
    "        if self.train:\n",
    "            img = self.t1(self.t2(img))\n",
    "        if self.gray:\n",
    "            img = self.g(img)\n",
    "        \n",
    "        # Return\n",
    "        return (img, cls)\n",
    "    \n",
    "    def load_h5_as_numpy(self, file_name, key):\n",
    "        with h5py.File(file_name, 'r') as h5_file:\n",
    "            data = h5_file[key][:]\n",
    "        return data"
   ]
  },
  {
   "attachments": {},
   "cell_type": "markdown",
   "id": "691e509c",
   "metadata": {},
   "source": [
    "### Models"
   ]
  },
  {
   "cell_type": "code",
   "execution_count": 4,
   "id": "b365dbe0",
   "metadata": {},
   "outputs": [],
   "source": [
    "class CustomModel(nn.Module):\n",
    "    \n",
    "    def __init__(self, dropout_rate=0.2, gray=False):\n",
    "        \n",
    "        super().__init__()\n",
    "        \n",
    "        first_deg = 1 if gray else 3\n",
    "        \n",
    "        self.conv = nn.Sequential(\n",
    "            \n",
    "            nn.Conv2d(first_deg, 16, 3, padding='valid'),\n",
    "            nn.ReLU(),\n",
    "            nn.Conv2d(16, 16, 3, padding='valid'),\n",
    "            nn.ReLU(),\n",
    "            nn.MaxPool2d(2),\n",
    "\n",
    "            nn.Conv2d(16, 32, 3, padding='valid'),\n",
    "            nn.ReLU(),\n",
    "            nn.Conv2d(32, 32, 3, padding='valid'),\n",
    "            nn.ReLU(),\n",
    "            nn.MaxPool2d(2),    \n",
    "\n",
    "            nn.Conv2d(32, 64, 3, padding='valid'),\n",
    "            nn.ReLU(),\n",
    "            nn.Conv2d(64, 64, 3, padding='valid'),\n",
    "            nn.ReLU(),\n",
    "            nn.MaxPool2d(2),\n",
    "            \n",
    "            nn.Flatten()\n",
    "        )\n",
    "        \n",
    "        self.drop = nn.Dropout(dropout_rate)\n",
    "        \n",
    "        self.lin1 = nn.Sequential(\n",
    "            nn.Linear(4096, 256),\n",
    "            nn.ReLU()\n",
    "        )\n",
    "        \n",
    "        self.lin2 = nn.Sequential(\n",
    "            nn.Linear(256, 128),\n",
    "            nn.ReLU()\n",
    "        )\n",
    "        \n",
    "        self.lin3 = nn.Linear(128, 2)\n",
    "        \n",
    "        self.train_model = nn.Sequential(\n",
    "            self.conv,\n",
    "            self.drop,\n",
    "            self.lin1,\n",
    "            self.drop,\n",
    "            self.lin2,\n",
    "            self.drop,\n",
    "            self.lin3\n",
    "        )\n",
    "        \n",
    "        self.test_model = nn.Sequential(\n",
    "            self.conv,\n",
    "            self.lin1,\n",
    "            self.lin2,\n",
    "            self.lin3\n",
    "        )\n",
    "    \n",
    "    def forward(self, x):\n",
    "        if self.training:\n",
    "            return self.train_model(x)\n",
    "        else:\n",
    "            return self.test_model(x)\n",
    "        "
   ]
  },
  {
   "attachments": {},
   "cell_type": "markdown",
   "id": "be5981d8",
   "metadata": {},
   "source": [
    "### Training / Testing Loop"
   ]
  },
  {
   "cell_type": "code",
   "execution_count": 5,
   "id": "4b043d2a",
   "metadata": {},
   "outputs": [],
   "source": [
    "class Log():\n",
    "    \n",
    "    def __init__(self):\n",
    "        self.log_text = \"\"\n",
    "\n",
    "    def log(self, text):\n",
    "        self.log_text += (text + \"\\n\")\n",
    "        print(text)\n",
    "\n",
    "    def get_log(self):\n",
    "        return self.log_text"
   ]
  },
  {
   "cell_type": "code",
   "execution_count": 6,
   "id": "5c36a09a",
   "metadata": {},
   "outputs": [],
   "source": [
    "def training(model, loss_fn, optimiser, epoch, train_name, save=False, patience=1, factor=0.4):\n",
    "    \n",
    "    # Setup\n",
    "    logger = Log()\n",
    "    scheduler = torch.optim.lr_scheduler.ReduceLROnPlateau(optimiser, mode=\"max\", patience=patience, factor=factor, verbose=True)\n",
    "    train_loss = np.zeros(epoch)\n",
    "    valid_loss = np.zeros(epoch)\n",
    "    \n",
    "    # Main epoch loop\n",
    "    for i in range(epoch):\n",
    "\n",
    "        # Training\n",
    "        model.train()\n",
    "        for inputs, labels in tqdm(train_dataloader, mininterval=1):\n",
    "            y_pred = model(inputs.to(dev))\n",
    "            loss = loss_fn(y_pred, labels.to(dev))\n",
    "            train_loss[i] += loss.item()\n",
    "            optimiser.zero_grad()\n",
    "            loss.backward()\n",
    "            optimiser.step()\n",
    "\n",
    "        # Validating\n",
    "        model.eval()\n",
    "        acc = 0\n",
    "        loss = 0\n",
    "        for inputs, labels in tqdm(val_dataloader, mininterval=1):\n",
    "            y_pred = model(inputs.to(dev))\n",
    "            acc += (torch.argmax(y_pred, 1) == labels.to(dev)).float().sum()\n",
    "            valid_loss[i] += loss_fn(y_pred, labels.to(dev)).item()\n",
    "        acc = 100 * float(acc) / len(val_dataloader.dataset)\n",
    "        logger.log(f\"Epoch {i+1}: validation accuracy {round(acc, 2)}\")\n",
    "        scheduler.step(acc)\n",
    "        \n",
    "    # Normalise loss data\n",
    "    train_loss = 100 * train_loss / len(train_dataloader)\n",
    "    valid_loss = 100 * valid_loss / len(val_dataloader)\n",
    "        \n",
    "    # Create the loss plot\n",
    "    epochs = np.arange(1, epoch+1)\n",
    "    plt.plot(epochs, train_loss)\n",
    "    plt.plot(epochs, valid_loss)\n",
    "    plt.xlabel('Epochs')\n",
    "    plt.ylabel('Loss')\n",
    "    plt.legend(['Training Loss','Validation Loss'])\n",
    "    \n",
    "    # Save data\n",
    "    if save:\n",
    "        torch.save(model.state_dict(), f'{train_name}.model')\n",
    "        plt.savefig(f'{train_name}_train.png')\n",
    "        with open(f'{train_name}_train.txt', \"w\") as text_file:\n",
    "            text_file.write(logger.get_log())"
   ]
  },
  {
   "cell_type": "code",
   "execution_count": 7,
   "id": "d47db0dd",
   "metadata": {},
   "outputs": [],
   "source": [
    "def testing(model, test_name, save=False):\n",
    "    \n",
    "    # Setup\n",
    "    logger = Log()\n",
    "    \n",
    "    # Testing\n",
    "    model.eval()\n",
    "    acc = 0\n",
    "    for inputs, labels in tqdm(test_dataloader, mininterval=1):\n",
    "        y_pred = model(inputs.to(dev))\n",
    "        acc += (torch.argmax(y_pred, 1) == labels.to(dev)).float().sum()\n",
    "    acc = 100 * float(acc) / len(test_dataloader.dataset)\n",
    "    logger.log(f\"Test accuracy {round(acc, 2)}\")\n",
    "    \n",
    "    # Saving\n",
    "    if save:\n",
    "        with open(f'{test_name}_test.txt', \"w\") as text_file:\n",
    "            text_file.write(logger.get_log())"
   ]
  },
  {
   "attachments": {},
   "cell_type": "markdown",
   "id": "2e2632be",
   "metadata": {},
   "source": [
    "### Running"
   ]
  },
  {
   "cell_type": "code",
   "execution_count": 8,
   "id": "e5c8a727",
   "metadata": {},
   "outputs": [],
   "source": [
    "# Image settings\n",
    "batch_size = 32\n",
    "gray = True\n",
    "\n",
    "# Model settings\n",
    "dropout_rate = 0.4\n",
    "\n",
    "# Training settings\n",
    "lr = 3\n",
    "momentum = 0.93\n",
    "epochs = 40\n",
    "\n",
    "# Scheduler settings\n",
    "patience = 2\n",
    "factor = 0.4\n",
    "\n",
    "# Name\n",
    "name = f\"{epochs}_SGD_{lr}_{momentum}_{dropout_rate}_{batch_size}_d_t{'g' if gray else ''}\""
   ]
  },
  {
   "cell_type": "code",
   "execution_count": 9,
   "id": "1a8ba449",
   "metadata": {},
   "outputs": [],
   "source": [
    "train_dataloader = DataLoader(Data(train=0, gray=gray), batch_size=batch_size)\n",
    "test_dataloader = DataLoader(Data(train=1, gray=gray), batch_size=batch_size)\n",
    "val_dataloader = DataLoader(Data(train=2, gray=gray), batch_size=batch_size)"
   ]
  },
  {
   "cell_type": "code",
   "execution_count": null,
   "id": "5caceebe",
   "metadata": {},
   "outputs": [],
   "source": [
    "model = CustomModel(dropout_rate=dropout_rate, gray=gray).to(dev)\n",
    "loss_fn = nn.CrossEntropyLoss()\n",
    "\n",
    "optimiser = torch.optim.SGD(model.parameters(), lr=10**(-lr), momentum=momentum)\n",
    "training(model, loss_fn, optimiser, epochs, name, save=True, patience=patience, factor=factor)"
   ]
  },
  {
   "cell_type": "code",
   "execution_count": null,
   "id": "7c0cbeb6",
   "metadata": {},
   "outputs": [],
   "source": [
    "testing(model, name, save=True)"
   ]
  }
 ],
 "metadata": {
  "kernelspec": {
   "display_name": "Python 3 (clean)",
   "language": "python",
   "name": "python3_clean"
  },
  "language_info": {
   "codemirror_mode": {
    "name": "ipython",
    "version": 3
   },
   "file_extension": ".py",
   "mimetype": "text/x-python",
   "name": "python",
   "nbconvert_exporter": "python",
   "pygments_lexer": "ipython3",
   "version": "3.9.5"
  }
 },
 "nbformat": 4,
 "nbformat_minor": 5
}
